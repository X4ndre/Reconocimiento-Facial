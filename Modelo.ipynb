{
 "cells": [
  {
   "cell_type": "code",
   "execution_count": 1,
   "metadata": {},
   "outputs": [],
   "source": [
    "from keras.layers import Input, Lambda, Dense, Flatten, Dropout, BatchNormalization, Conv2D\n",
    "from keras.models import Model\n",
    "from tensorflow.keras.applications.vgg16 import VGG16\n",
    "from tensorflow.keras.applications.vgg16 import preprocess_input\n",
    "from keras.preprocessing import image\n",
    "from keras.preprocessing.image import ImageDataGenerator\n",
    "from keras.models import Sequential\n",
    "from keras.models import load_model\n",
    "import numpy as np\n",
    "from glob import glob\n",
    "import matplotlib.pyplot as plt"
   ]
  },
  {
   "cell_type": "code",
   "execution_count": 2,
   "metadata": {},
   "outputs": [
    {
     "name": "stdout",
     "output_type": "stream",
     "text": [
      "Found 600 images belonging to 3 classes.\n",
      "Found 600 images belonging to 3 classes.\n"
     ]
    }
   ],
   "source": [
    "train_datagen = ImageDataGenerator(rescale=1/255., \n",
    "                                   rotation_range=65,\n",
    "                                   shear_range=0.2,\n",
    "                                   zoom_range=0.2,\n",
    "                                   horizontal_flip=True,\n",
    "                                   width_shift_range=0.2,\n",
    "                                   height_shift_range=0.2,\n",
    "                                   fill_mode='nearest')\n",
    "\n",
    "test_datagen = ImageDataGenerator(rescale=1/255.)\n",
    "\n",
    "train_data = train_datagen.flow_from_directory('Data/Train',\n",
    "                                                 target_size = (224, 224),\n",
    "                                                 batch_size = 32,\n",
    "                                                 class_mode = 'categorical')\n",
    "\n",
    "test_data = test_datagen.flow_from_directory('Data/Test',\n",
    "                                            target_size = (224, 224),\n",
    "                                            batch_size = 32,\n",
    "                                            class_mode = 'categorical')"
   ]
  },
  {
   "cell_type": "code",
   "execution_count": 3,
   "metadata": {},
   "outputs": [],
   "source": [
    "# Ajuste de tamaño de imagenes a 224x224\n",
    "IMAGE_SIZE = [224, 224]\n",
    "\n",
    "train_path = 'Datasets/Train'\n",
    "valid_path = 'Datasets/Test'\n",
    "\n",
    "# Se agrega el modelo preentrenado de VGG16\n",
    "inception = VGG16(input_shape=IMAGE_SIZE + [3], weights='imagenet', include_top=False)"
   ]
  },
  {
   "cell_type": "code",
   "execution_count": 4,
   "metadata": {},
   "outputs": [],
   "source": [
    "inception.trainable = False"
   ]
  },
  {
   "cell_type": "code",
   "execution_count": 5,
   "metadata": {},
   "outputs": [],
   "source": [
    "#Otra forma de conseguir el numero de clases que hay\n",
    "folders = glob('Data/Train/*')"
   ]
  },
  {
   "cell_type": "code",
   "execution_count": 6,
   "metadata": {},
   "outputs": [],
   "source": [
    "x = Flatten()(inception.output)\n",
    "x = Dense(200, activation='relu')(x)\n",
    "x = Dropout(0.7)(x)\n",
    "x = Dense(100, activation='relu')(x)\n",
    "x = Dropout(0.5)(x)\n",
    "x = Dense(80, activation='relu')(x)\n",
    "x = Dense(50, activation='sigmoid')(x)\n",
    "prediction = Dense(len(folders), activation='softmax')(x)"
   ]
  },
  {
   "cell_type": "code",
   "execution_count": 7,
   "metadata": {},
   "outputs": [
    {
     "name": "stdout",
     "output_type": "stream",
     "text": [
      "Model: \"model\"\n",
      "_________________________________________________________________\n",
      " Layer (type)                Output Shape              Param #   \n",
      "=================================================================\n",
      " input_1 (InputLayer)        [(None, 224, 224, 3)]     0         \n",
      "                                                                 \n",
      " block1_conv1 (Conv2D)       (None, 224, 224, 64)      1792      \n",
      "                                                                 \n",
      " block1_conv2 (Conv2D)       (None, 224, 224, 64)      36928     \n",
      "                                                                 \n",
      " block1_pool (MaxPooling2D)  (None, 112, 112, 64)      0         \n",
      "                                                                 \n",
      " block2_conv1 (Conv2D)       (None, 112, 112, 128)     73856     \n",
      "                                                                 \n",
      " block2_conv2 (Conv2D)       (None, 112, 112, 128)     147584    \n",
      "                                                                 \n",
      " block2_pool (MaxPooling2D)  (None, 56, 56, 128)       0         \n",
      "                                                                 \n",
      " block3_conv1 (Conv2D)       (None, 56, 56, 256)       295168    \n",
      "                                                                 \n",
      " block3_conv2 (Conv2D)       (None, 56, 56, 256)       590080    \n",
      "                                                                 \n",
      " block3_conv3 (Conv2D)       (None, 56, 56, 256)       590080    \n",
      "                                                                 \n",
      " block3_pool (MaxPooling2D)  (None, 28, 28, 256)       0         \n",
      "                                                                 \n",
      " block4_conv1 (Conv2D)       (None, 28, 28, 512)       1180160   \n",
      "                                                                 \n",
      " block4_conv2 (Conv2D)       (None, 28, 28, 512)       2359808   \n",
      "                                                                 \n",
      " block4_conv3 (Conv2D)       (None, 28, 28, 512)       2359808   \n",
      "                                                                 \n",
      " block4_pool (MaxPooling2D)  (None, 14, 14, 512)       0         \n",
      "                                                                 \n",
      " block5_conv1 (Conv2D)       (None, 14, 14, 512)       2359808   \n",
      "                                                                 \n",
      " block5_conv2 (Conv2D)       (None, 14, 14, 512)       2359808   \n",
      "                                                                 \n",
      " block5_conv3 (Conv2D)       (None, 14, 14, 512)       2359808   \n",
      "                                                                 \n",
      " block5_pool (MaxPooling2D)  (None, 7, 7, 512)         0         \n",
      "                                                                 \n",
      " flatten (Flatten)           (None, 25088)             0         \n",
      "                                                                 \n",
      " dense (Dense)               (None, 200)               5017800   \n",
      "                                                                 \n",
      " dropout (Dropout)           (None, 200)               0         \n",
      "                                                                 \n",
      " dense_1 (Dense)             (None, 100)               20100     \n",
      "                                                                 \n",
      " dropout_1 (Dropout)         (None, 100)               0         \n",
      "                                                                 \n",
      " dense_2 (Dense)             (None, 80)                8080      \n",
      "                                                                 \n",
      " dense_3 (Dense)             (None, 50)                4050      \n",
      "                                                                 \n",
      " dense_4 (Dense)             (None, 3)                 153       \n",
      "                                                                 \n",
      "=================================================================\n",
      "Total params: 19,764,871\n",
      "Trainable params: 5,050,183\n",
      "Non-trainable params: 14,714,688\n",
      "_________________________________________________________________\n"
     ]
    }
   ],
   "source": [
    "modelo = Model(inputs=inception.input, outputs=prediction)\n",
    "modelo.summary()"
   ]
  },
  {
   "cell_type": "code",
   "execution_count": 8,
   "metadata": {},
   "outputs": [],
   "source": [
    "modelo.compile( loss='categorical_crossentropy', optimizer='adam', metrics=['accuracy'])\n"
   ]
  },
  {
   "cell_type": "code",
   "execution_count": 9,
   "metadata": {},
   "outputs": [
    {
     "name": "stdout",
     "output_type": "stream",
     "text": [
      "Epoch 1/50\n",
      "19/19 [==============================] - 45s 1s/step - loss: 1.1456 - accuracy: 0.3700 - val_loss: 1.0162 - val_accuracy: 0.3333\n",
      "Epoch 2/50\n",
      "19/19 [==============================] - 10s 531ms/step - loss: 1.1337 - accuracy: 0.3433 - val_loss: 0.9889 - val_accuracy: 0.3400\n",
      "Epoch 3/50\n",
      "19/19 [==============================] - 10s 539ms/step - loss: 1.1285 - accuracy: 0.3850 - val_loss: 0.9180 - val_accuracy: 0.6567\n",
      "Epoch 4/50\n",
      "19/19 [==============================] - 10s 549ms/step - loss: 1.0974 - accuracy: 0.4033 - val_loss: 0.8852 - val_accuracy: 0.7783\n",
      "Epoch 5/50\n",
      "19/19 [==============================] - 10s 544ms/step - loss: 1.1108 - accuracy: 0.3883 - val_loss: 0.8411 - val_accuracy: 0.6583\n",
      "Epoch 6/50\n",
      "19/19 [==============================] - 11s 555ms/step - loss: 1.0705 - accuracy: 0.4050 - val_loss: 0.9398 - val_accuracy: 0.6800\n",
      "Epoch 7/50\n",
      "19/19 [==============================] - 10s 552ms/step - loss: 1.0387 - accuracy: 0.4617 - val_loss: 0.6789 - val_accuracy: 0.9767\n",
      "Epoch 8/50\n",
      "19/19 [==============================] - 11s 555ms/step - loss: 0.9119 - accuracy: 0.5867 - val_loss: 0.4783 - val_accuracy: 0.9983\n",
      "Epoch 9/50\n",
      "19/19 [==============================] - 11s 560ms/step - loss: 0.7315 - accuracy: 0.7133 - val_loss: 0.1913 - val_accuracy: 0.9983\n",
      "Epoch 10/50\n",
      "19/19 [==============================] - 11s 580ms/step - loss: 0.4897 - accuracy: 0.8650 - val_loss: 0.0851 - val_accuracy: 1.0000\n",
      "Epoch 11/50\n",
      "19/19 [==============================] - 11s 573ms/step - loss: 0.3742 - accuracy: 0.8950 - val_loss: 0.0458 - val_accuracy: 0.9983\n",
      "Epoch 12/50\n",
      "19/19 [==============================] - 11s 571ms/step - loss: 0.3252 - accuracy: 0.8867 - val_loss: 0.0370 - val_accuracy: 1.0000\n",
      "Epoch 13/50\n",
      "19/19 [==============================] - 11s 573ms/step - loss: 0.2453 - accuracy: 0.9217 - val_loss: 0.0251 - val_accuracy: 1.0000\n",
      "Epoch 14/50\n",
      "19/19 [==============================] - 11s 575ms/step - loss: 0.2328 - accuracy: 0.9333 - val_loss: 0.0204 - val_accuracy: 1.0000\n",
      "Epoch 15/50\n",
      "19/19 [==============================] - 11s 575ms/step - loss: 0.1867 - accuracy: 0.9383 - val_loss: 0.0173 - val_accuracy: 1.0000\n",
      "Epoch 16/50\n",
      "19/19 [==============================] - 11s 586ms/step - loss: 0.1787 - accuracy: 0.9417 - val_loss: 0.0148 - val_accuracy: 1.0000\n",
      "Epoch 17/50\n",
      "19/19 [==============================] - 11s 580ms/step - loss: 0.1549 - accuracy: 0.9500 - val_loss: 0.0133 - val_accuracy: 1.0000\n",
      "Epoch 18/50\n",
      "19/19 [==============================] - 11s 578ms/step - loss: 0.1569 - accuracy: 0.9400 - val_loss: 0.0127 - val_accuracy: 1.0000\n",
      "Epoch 19/50\n",
      "19/19 [==============================] - 11s 593ms/step - loss: 0.1436 - accuracy: 0.9567 - val_loss: 0.0123 - val_accuracy: 1.0000\n",
      "Epoch 20/50\n",
      "19/19 [==============================] - 11s 587ms/step - loss: 0.1279 - accuracy: 0.9400 - val_loss: 0.0098 - val_accuracy: 1.0000\n",
      "Epoch 21/50\n",
      "19/19 [==============================] - 11s 588ms/step - loss: 0.1426 - accuracy: 0.9467 - val_loss: 0.0093 - val_accuracy: 1.0000\n",
      "Epoch 22/50\n",
      "19/19 [==============================] - 11s 590ms/step - loss: 0.1537 - accuracy: 0.9350 - val_loss: 0.0084 - val_accuracy: 1.0000\n",
      "Epoch 23/50\n",
      "19/19 [==============================] - 11s 586ms/step - loss: 0.1540 - accuracy: 0.9367 - val_loss: 0.0084 - val_accuracy: 1.0000\n",
      "Epoch 24/50\n",
      "19/19 [==============================] - 11s 585ms/step - loss: 0.1424 - accuracy: 0.9417 - val_loss: 0.0080 - val_accuracy: 1.0000\n",
      "Epoch 25/50\n",
      "19/19 [==============================] - 11s 604ms/step - loss: 0.1058 - accuracy: 0.9583 - val_loss: 0.0068 - val_accuracy: 1.0000\n",
      "Epoch 26/50\n",
      "19/19 [==============================] - 11s 587ms/step - loss: 0.0968 - accuracy: 0.9583 - val_loss: 0.0064 - val_accuracy: 1.0000\n",
      "Epoch 27/50\n",
      "19/19 [==============================] - 12s 601ms/step - loss: 0.1020 - accuracy: 0.9700 - val_loss: 0.0061 - val_accuracy: 1.0000\n",
      "Epoch 28/50\n",
      "19/19 [==============================] - 11s 594ms/step - loss: 0.1149 - accuracy: 0.9483 - val_loss: 0.0059 - val_accuracy: 1.0000\n",
      "Epoch 29/50\n",
      "19/19 [==============================] - 11s 600ms/step - loss: 0.0927 - accuracy: 0.9600 - val_loss: 0.0058 - val_accuracy: 1.0000\n",
      "Epoch 30/50\n",
      "19/19 [==============================] - 11s 590ms/step - loss: 0.1070 - accuracy: 0.9567 - val_loss: 0.0056 - val_accuracy: 1.0000\n",
      "Epoch 31/50\n",
      "19/19 [==============================] - 11s 601ms/step - loss: 0.1221 - accuracy: 0.9417 - val_loss: 0.0056 - val_accuracy: 1.0000\n",
      "Epoch 32/50\n",
      "19/19 [==============================] - 11s 592ms/step - loss: 0.1282 - accuracy: 0.9467 - val_loss: 0.0053 - val_accuracy: 1.0000\n",
      "Epoch 33/50\n",
      "19/19 [==============================] - 11s 594ms/step - loss: 0.0974 - accuracy: 0.9467 - val_loss: 0.0050 - val_accuracy: 1.0000\n",
      "Epoch 34/50\n",
      "19/19 [==============================] - 11s 606ms/step - loss: 0.1262 - accuracy: 0.9400 - val_loss: 0.0050 - val_accuracy: 1.0000\n",
      "Epoch 35/50\n",
      "19/19 [==============================] - 12s 609ms/step - loss: 0.1325 - accuracy: 0.9467 - val_loss: 0.0051 - val_accuracy: 1.0000\n",
      "Epoch 36/50\n",
      "19/19 [==============================] - 11s 587ms/step - loss: 0.1492 - accuracy: 0.9367 - val_loss: 0.0052 - val_accuracy: 1.0000\n",
      "Epoch 37/50\n",
      "19/19 [==============================] - 11s 601ms/step - loss: 0.1496 - accuracy: 0.9367 - val_loss: 0.0052 - val_accuracy: 1.0000\n",
      "Epoch 38/50\n",
      "19/19 [==============================] - 11s 592ms/step - loss: 0.1265 - accuracy: 0.9467 - val_loss: 0.0049 - val_accuracy: 1.0000\n",
      "Epoch 39/50\n",
      "19/19 [==============================] - 11s 604ms/step - loss: 0.1228 - accuracy: 0.9533 - val_loss: 0.0047 - val_accuracy: 1.0000\n",
      "Epoch 40/50\n",
      "19/19 [==============================] - 11s 599ms/step - loss: 0.1179 - accuracy: 0.9500 - val_loss: 0.0044 - val_accuracy: 1.0000\n",
      "Epoch 41/50\n",
      "19/19 [==============================] - 11s 591ms/step - loss: 0.1321 - accuracy: 0.9333 - val_loss: 0.0046 - val_accuracy: 1.0000\n",
      "Epoch 42/50\n",
      "19/19 [==============================] - 11s 594ms/step - loss: 0.0853 - accuracy: 0.9633 - val_loss: 0.0042 - val_accuracy: 1.0000\n",
      "Epoch 43/50\n",
      "19/19 [==============================] - 11s 605ms/step - loss: 0.1268 - accuracy: 0.9550 - val_loss: 0.0043 - val_accuracy: 1.0000\n",
      "Epoch 44/50\n",
      "19/19 [==============================] - 11s 589ms/step - loss: 0.1358 - accuracy: 0.9400 - val_loss: 0.0042 - val_accuracy: 1.0000\n",
      "Epoch 45/50\n",
      "19/19 [==============================] - 13s 703ms/step - loss: 0.1609 - accuracy: 0.9233 - val_loss: 0.0042 - val_accuracy: 1.0000\n",
      "Epoch 46/50\n",
      "19/19 [==============================] - 13s 683ms/step - loss: 0.1432 - accuracy: 0.9417 - val_loss: 0.0039 - val_accuracy: 1.0000\n",
      "Epoch 47/50\n",
      "19/19 [==============================] - 16s 822ms/step - loss: 0.1326 - accuracy: 0.9500 - val_loss: 0.0039 - val_accuracy: 1.0000\n",
      "Epoch 48/50\n",
      "19/19 [==============================] - 14s 730ms/step - loss: 0.1028 - accuracy: 0.9617 - val_loss: 0.0038 - val_accuracy: 1.0000\n",
      "Epoch 49/50\n",
      "19/19 [==============================] - 12s 605ms/step - loss: 0.1022 - accuracy: 0.9517 - val_loss: 0.0037 - val_accuracy: 1.0000\n",
      "Epoch 50/50\n",
      "19/19 [==============================] - 13s 662ms/step - loss: 0.1417 - accuracy: 0.9533 - val_loss: 0.0038 - val_accuracy: 1.0000\n"
     ]
    }
   ],
   "source": [
    "history = modelo.fit(train_data, validation_data=test_data, epochs=50, batch_size=15)"
   ]
  },
  {
   "cell_type": "code",
   "execution_count": 10,
   "metadata": {},
   "outputs": [],
   "source": [
    "modelo.save('Reconocimiento_Facial_Modelo.h5')"
   ]
  }
 ],
 "metadata": {
  "kernelspec": {
   "display_name": "Shiro",
   "language": "python",
   "name": "python3"
  },
  "language_info": {
   "codemirror_mode": {
    "name": "ipython",
    "version": 3
   },
   "file_extension": ".py",
   "mimetype": "text/x-python",
   "name": "python",
   "nbconvert_exporter": "python",
   "pygments_lexer": "ipython3",
   "version": "3.7.16"
  },
  "orig_nbformat": 4
 },
 "nbformat": 4,
 "nbformat_minor": 2
}
